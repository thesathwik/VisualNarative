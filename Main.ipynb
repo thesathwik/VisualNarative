{
 "cells": [
  {
   "cell_type": "code",
   "execution_count": null,
   "id": "c106fbea",
   "metadata": {},
   "outputs": [],
   "source": [
    "import data_preprocessing\n",
    "import model\n",
    "import train\n",
    "import evaluate\n",
    "import config\n",
    "\n",
    "def main():\n",
    "    # Load and preprocess data\n",
    "    train_dataset, test_data = data_preprocessing.prepare_data()\n",
    "\n",
    "    # Initialize models\n",
    "    encoder = model.CNN_Encoder(config.embedding_dim)\n",
    "    decoder = model.RNN_Decoder(config.embedding_dim, config.units, config.vocab_size)\n",
    "\n",
    "    # Train the model\n",
    "    train.train_model(encoder, decoder, train_dataset)\n",
    "\n",
    "    # Evaluate the model\n",
    "    evaluate.evaluate_model(encoder, decoder, test_data)\n",
    "\n",
    "if __name__ == \"__main__\":\n",
    "    main()"
   ]
  }
 ],
 "metadata": {
  "kernelspec": {
   "display_name": "Python 3 (ipykernel)",
   "language": "python",
   "name": "python3"
  },
  "language_info": {
   "codemirror_mode": {
    "name": "ipython",
    "version": 3
   },
   "file_extension": ".py",
   "mimetype": "text/x-python",
   "name": "python",
   "nbconvert_exporter": "python",
   "pygments_lexer": "ipython3",
   "version": "3.11.4"
  }
 },
 "nbformat": 4,
 "nbformat_minor": 5
}
