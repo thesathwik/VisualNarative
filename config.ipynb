{
 "cells": [
  {
   "cell_type": "code",
   "execution_count": null,
   "id": "4cee1b4a",
   "metadata": {},
   "outputs": [],
   "source": [
    "# Dataset configuration\n",
    "dataset_path = \"/path/to/dataset\"\n",
    "dataset_images_path = dataset_path + \"/Images/\"\n",
    "img_height = 180\n",
    "img_width = 180\n",
    "validation_split = 0.2\n",
    "\n",
    "# Model configuration\n",
    "embedding_dim = 512\n",
    "units = 512\n",
    "top_k = 5000\n",
    "vocab_size = top_k + 1\n",
    "\n",
    "# Training configuration\n",
    "BUFFER_SIZE = 1000\n",
    "BATCH_SIZE = 64\n",
    "EPOCHS = 5\n",
    "checkpoint_path = \"./checkpoints/train\"\n",
    "\n",
    "# Other configurations\n",
    "max_caption_length = 40"
   ]
  }
 ],
 "metadata": {
  "kernelspec": {
   "display_name": "Python 3 (ipykernel)",
   "language": "python",
   "name": "python3"
  },
  "language_info": {
   "codemirror_mode": {
    "name": "ipython",
    "version": 3
   },
   "file_extension": ".py",
   "mimetype": "text/x-python",
   "name": "python",
   "nbconvert_exporter": "python",
   "pygments_lexer": "ipython3",
   "version": "3.11.4"
  }
 },
 "nbformat": 4,
 "nbformat_minor": 5
}
