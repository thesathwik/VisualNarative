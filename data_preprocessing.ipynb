{
 "cells": [
  {
   "cell_type": "code",
   "execution_count": null,
   "id": "7f73299b",
   "metadata": {},
   "outputs": [],
   "source": [
    "import tensorflow as tf\n",
    "from sklearn.model_selection import train_test_split\n",
    "import config\n",
    "import utils\n",
    "\n",
    "def load_image(image_path):\n",
    "    img = tf.io.read_file(config.dataset_images_path + image_path)\n",
    "    img = tf.image.decode_jpeg(img, channels=3)\n",
    "    img = tf.image.resize(img, (config.img_height, config.img_width))\n",
    "    img = tf.keras.applications.inception_v3.preprocess_input(img)\n",
    "    return img, image_path\n",
    "\n",
    "def prepare_data():\n",
    "    images_captions_dict = utils.read_captions(config.dataset_path)\n",
    "    images_dict = utils.extract_image_features(images_captions_dict)\n",
    "\n",
    "    image_filenames = list(images_captions_dict.keys())\n",
    "    image_filenames_train, image_filenames_test = train_test_split(image_filenames, test_size=config.validation_split, random_state=1)\n",
    "\n",
    "    X_train, y_train_raw = utils.get_images_labels(image_filenames_train, images_dict, images_captions_dict)\n",
    "    X_test, y_test_raw = utils.get_images_labels(image_filenames_test, images_dict, images_captions_dict)\n",
    "\n",
    "    tokenizer = utils.create_tokenizer(y_train_raw)\n",
    "    y_train = utils.tokenize_captions(tokenizer, y_train_raw)\n",
    "\n",
    "    train_dataset = tf.data.Dataset.from_tensor_slices((X_train, y_train))\n",
    "    train_dataset = train_dataset.shuffle(config.BUFFER_SIZE).batch(config.BATCH_SIZE).prefetch(buffer_size=tf.data.experimental.AUTOTUNE)\n",
    "\n",
    "    return train_dataset, (X_test, y_test_raw, image_filenames_test)"
   ]
  },
  {
   "cell_type": "code",
   "execution_count": null,
   "id": "93a698fa",
   "metadata": {},
   "outputs": [],
   "source": []
  }
 ],
 "metadata": {
  "kernelspec": {
   "display_name": "Python 3 (ipykernel)",
   "language": "python",
   "name": "python3"
  },
  "language_info": {
   "codemirror_mode": {
    "name": "ipython",
    "version": 3
   },
   "file_extension": ".py",
   "mimetype": "text/x-python",
   "name": "python",
   "nbconvert_exporter": "python",
   "pygments_lexer": "ipython3",
   "version": "3.11.4"
  }
 },
 "nbformat": 4,
 "nbformat_minor": 5
}
