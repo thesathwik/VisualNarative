{
 "cells": [
  {
   "cell_type": "code",
   "execution_count": null,
   "id": "5598e3dc",
   "metadata": {},
   "outputs": [],
   "source": [
    "import numpy as np\n",
    "from nltk.translate.bleu_score import corpus_bleu\n",
    "import utils\n",
    "\n",
    "def evaluate_model(encoder, decoder, test_data):\n",
    "    X_test, y_test_raw, image_filenames_test = test_data\n",
    "    actual, predicted = [], []\n",
    "\n",
    "    for img, captions in zip(X_test, y_test_raw):\n",
    "        estimated_caption = utils.get_caption(img, encoder, decoder)\n",
    "        actual_captions = [utils.clean_caption(caption.split()) for caption in captions]\n",
    "\n",
    "        actual.append(actual_captions)\n",
    "        predicted.append(estimated_caption)\n",
    "\n",
    "    print('BLEU-1: %f' % corpus_bleu(actual, predicted, weights=(1.0, 0, 0, 0)))\n",
    "    print('BLEU-2: %f' % corpus_bleu(actual, predicted, weights=(0.5, 0.5, 0, 0)))"
   ]
  }
 ],
 "metadata": {
  "kernelspec": {
   "display_name": "Python 3 (ipykernel)",
   "language": "python",
   "name": "python3"
  },
  "language_info": {
   "codemirror_mode": {
    "name": "ipython",
    "version": 3
   },
   "file_extension": ".py",
   "mimetype": "text/x-python",
   "name": "python",
   "nbconvert_exporter": "python",
   "pygments_lexer": "ipython3",
   "version": "3.11.4"
  }
 },
 "nbformat": 4,
 "nbformat_minor": 5
}
